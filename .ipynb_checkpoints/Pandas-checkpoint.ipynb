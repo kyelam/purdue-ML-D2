{
 "cells": [
  {
   "cell_type": "markdown",
   "metadata": {},
   "source": [
    "# Pandas\n",
    "\n",
    "**pandas is a fast, powerful, flexible and easy to use open source data analysis and manipulation tool, built on top of the Python programming language.**\n",
    "\n",
    "https://pandas.pydata.org/\n",
    "\n",
    "* Introduction\n",
    "\n",
    "\n",
    "* Series\n",
    "\n",
    "\n",
    "* Dataframes\n",
    "\n",
    "\n",
    "* Missing data handling \n",
    "\n",
    "\n",
    "* GroupBy\n",
    "\n",
    "\n",
    "* Operations\n",
    "\n",
    "\n",
    "* Data input / output\n",
    "\n",
    "\n",
    "* Merging, joining, and concatenating"
   ]
  },
  {
   "cell_type": "markdown",
   "metadata": {},
   "source": [
    "#### Series\n",
    "\n",
    "Similar to numpy array, diiferent types\n",
    "\n",
    "Series in indexed by labels, and has axis labels"
   ]
  },
  {
   "cell_type": "markdown",
   "metadata": {},
   "source": [
    "#### Import libraries"
   ]
  },
  {
   "cell_type": "code",
   "execution_count": 1,
   "metadata": {},
   "outputs": [],
   "source": [
    "import numpy as np\n",
    "import pandas as pd"
   ]
  },
  {
   "cell_type": "markdown",
   "metadata": {},
   "source": [
    "#### Create series"
   ]
  },
  {
   "cell_type": "code",
   "execution_count": 2,
   "metadata": {},
   "outputs": [],
   "source": [
    "labels = ['a','b','c']\n",
    "myList = [1,2,3]\n",
    "arr = np.array([10,20,30])\n",
    "d = {'a':11,'b':12,'c':14}"
   ]
  },
  {
   "cell_type": "markdown",
   "metadata": {},
   "source": [
    "#### Using list"
   ]
  },
  {
   "cell_type": "code",
   "execution_count": 3,
   "metadata": {},
   "outputs": [
    {
     "data": {
      "text/plain": [
       "0    1\n",
       "1    2\n",
       "2    3\n",
       "dtype: int64"
      ]
     },
     "execution_count": 3,
     "metadata": {},
     "output_type": "execute_result"
    }
   ],
   "source": [
    "pd.Series(myList)"
   ]
  },
  {
   "cell_type": "code",
   "execution_count": 4,
   "metadata": {},
   "outputs": [
    {
     "data": {
      "text/plain": [
       "a    1\n",
       "b    2\n",
       "c    3\n",
       "dtype: int64"
      ]
     },
     "execution_count": 4,
     "metadata": {},
     "output_type": "execute_result"
    }
   ],
   "source": [
    "pd.Series(data=myList,index=labels)"
   ]
  },
  {
   "cell_type": "markdown",
   "metadata": {},
   "source": [
    "#### Using Dictionary"
   ]
  },
  {
   "cell_type": "code",
   "execution_count": 5,
   "metadata": {},
   "outputs": [
    {
     "data": {
      "text/plain": [
       "a    11\n",
       "b    12\n",
       "c    14\n",
       "dtype: int64"
      ]
     },
     "execution_count": 5,
     "metadata": {},
     "output_type": "execute_result"
    }
   ],
   "source": [
    "pd.Series(d)"
   ]
  },
  {
   "cell_type": "markdown",
   "metadata": {},
   "source": [
    "##### Operations"
   ]
  },
  {
   "cell_type": "code",
   "execution_count": 6,
   "metadata": {},
   "outputs": [],
   "source": [
    "d1={\"USA\":12,\"China\":65,\"India\":56}\n",
    "d2={\"USA\":12,\"EU\":65,\"India\":56}"
   ]
  },
  {
   "cell_type": "code",
   "execution_count": 7,
   "metadata": {},
   "outputs": [],
   "source": [
    "ser1=pd.Series(d1)\n",
    "ser2=pd.Series(d2)"
   ]
  },
  {
   "cell_type": "code",
   "execution_count": 8,
   "metadata": {},
   "outputs": [
    {
     "data": {
      "text/plain": [
       "China      NaN\n",
       "EU         NaN\n",
       "India    112.0\n",
       "USA       24.0\n",
       "dtype: float64"
      ]
     },
     "execution_count": 8,
     "metadata": {},
     "output_type": "execute_result"
    }
   ],
   "source": [
    "ser1+ser2"
   ]
  },
  {
   "cell_type": "markdown",
   "metadata": {},
   "source": [
    "#### DataFrames\n",
    "\n",
    "Main workhorse of pandas\n",
    "\n",
    "Bunch of series objects with same index put together"
   ]
  },
  {
   "cell_type": "code",
   "execution_count": 9,
   "metadata": {},
   "outputs": [
    {
     "data": {
      "text/html": [
       "<div>\n",
       "<style scoped>\n",
       "    .dataframe tbody tr th:only-of-type {\n",
       "        vertical-align: middle;\n",
       "    }\n",
       "\n",
       "    .dataframe tbody tr th {\n",
       "        vertical-align: top;\n",
       "    }\n",
       "\n",
       "    .dataframe thead th {\n",
       "        text-align: right;\n",
       "    }\n",
       "</style>\n",
       "<table border=\"1\" class=\"dataframe\">\n",
       "  <thead>\n",
       "    <tr style=\"text-align: right;\">\n",
       "      <th></th>\n",
       "      <th>W</th>\n",
       "      <th>X</th>\n",
       "      <th>Y</th>\n",
       "      <th>Z</th>\n",
       "    </tr>\n",
       "  </thead>\n",
       "  <tbody>\n",
       "    <tr>\n",
       "      <th>A</th>\n",
       "      <td>-0.569100</td>\n",
       "      <td>-0.084155</td>\n",
       "      <td>-0.846510</td>\n",
       "      <td>-1.397297</td>\n",
       "    </tr>\n",
       "    <tr>\n",
       "      <th>B</th>\n",
       "      <td>1.708675</td>\n",
       "      <td>0.664588</td>\n",
       "      <td>-0.169281</td>\n",
       "      <td>0.006246</td>\n",
       "    </tr>\n",
       "    <tr>\n",
       "      <th>C</th>\n",
       "      <td>-0.686629</td>\n",
       "      <td>-1.482483</td>\n",
       "      <td>-0.945229</td>\n",
       "      <td>-2.318457</td>\n",
       "    </tr>\n",
       "    <tr>\n",
       "      <th>D</th>\n",
       "      <td>1.432320</td>\n",
       "      <td>-0.608744</td>\n",
       "      <td>-0.988636</td>\n",
       "      <td>-0.350024</td>\n",
       "    </tr>\n",
       "    <tr>\n",
       "      <th>E</th>\n",
       "      <td>-0.505227</td>\n",
       "      <td>1.398927</td>\n",
       "      <td>0.395654</td>\n",
       "      <td>2.398598</td>\n",
       "    </tr>\n",
       "  </tbody>\n",
       "</table>\n",
       "</div>"
      ],
      "text/plain": [
       "          W         X         Y         Z\n",
       "A -0.569100 -0.084155 -0.846510 -1.397297\n",
       "B  1.708675  0.664588 -0.169281  0.006246\n",
       "C -0.686629 -1.482483 -0.945229 -2.318457\n",
       "D  1.432320 -0.608744 -0.988636 -0.350024\n",
       "E -0.505227  1.398927  0.395654  2.398598"
      ]
     },
     "execution_count": 9,
     "metadata": {},
     "output_type": "execute_result"
    }
   ],
   "source": [
    "df = pd.DataFrame(data=np.random.randn(5,4),\n",
    "                  index=['A', 'B', 'C', 'D', 'E'],\n",
    "                  columns='W X Y Z'.split())\n",
    "\n",
    "\n",
    "#'A B C D E'.split())\n",
    "#['A', 'B', 'C', 'D', 'E']\n",
    "\n",
    "df"
   ]
  },
  {
   "cell_type": "code",
   "execution_count": 10,
   "metadata": {},
   "outputs": [
    {
     "data": {
      "text/plain": [
       "['A', 'B', 'C', 'D', 'E']"
      ]
     },
     "execution_count": 10,
     "metadata": {},
     "output_type": "execute_result"
    }
   ],
   "source": [
    "'A B C D E'.split()"
   ]
  },
  {
   "cell_type": "markdown",
   "metadata": {},
   "source": [
    "#### Selection and Indexing"
   ]
  },
  {
   "cell_type": "code",
   "execution_count": 11,
   "metadata": {},
   "outputs": [
    {
     "data": {
      "text/plain": [
       "A   -0.569100\n",
       "B    1.708675\n",
       "C   -0.686629\n",
       "D    1.432320\n",
       "E   -0.505227\n",
       "Name: W, dtype: float64"
      ]
     },
     "execution_count": 11,
     "metadata": {},
     "output_type": "execute_result"
    }
   ],
   "source": [
    "df['W']"
   ]
  },
  {
   "cell_type": "code",
   "execution_count": 12,
   "metadata": {},
   "outputs": [
    {
     "data": {
      "text/plain": [
       "A   -0.569100\n",
       "B    1.708675\n",
       "C   -0.686629\n",
       "D    1.432320\n",
       "E   -0.505227\n",
       "Name: W, dtype: float64"
      ]
     },
     "execution_count": 12,
     "metadata": {},
     "output_type": "execute_result"
    }
   ],
   "source": [
    "df.W # sql syntax NOT RECOMMENDED"
   ]
  },
  {
   "cell_type": "code",
   "execution_count": 13,
   "metadata": {},
   "outputs": [
    {
     "data": {
      "text/html": [
       "<div>\n",
       "<style scoped>\n",
       "    .dataframe tbody tr th:only-of-type {\n",
       "        vertical-align: middle;\n",
       "    }\n",
       "\n",
       "    .dataframe tbody tr th {\n",
       "        vertical-align: top;\n",
       "    }\n",
       "\n",
       "    .dataframe thead th {\n",
       "        text-align: right;\n",
       "    }\n",
       "</style>\n",
       "<table border=\"1\" class=\"dataframe\">\n",
       "  <thead>\n",
       "    <tr style=\"text-align: right;\">\n",
       "      <th></th>\n",
       "      <th>W</th>\n",
       "      <th>Z</th>\n",
       "    </tr>\n",
       "  </thead>\n",
       "  <tbody>\n",
       "    <tr>\n",
       "      <th>A</th>\n",
       "      <td>-0.569100</td>\n",
       "      <td>-1.397297</td>\n",
       "    </tr>\n",
       "    <tr>\n",
       "      <th>B</th>\n",
       "      <td>1.708675</td>\n",
       "      <td>0.006246</td>\n",
       "    </tr>\n",
       "    <tr>\n",
       "      <th>C</th>\n",
       "      <td>-0.686629</td>\n",
       "      <td>-2.318457</td>\n",
       "    </tr>\n",
       "    <tr>\n",
       "      <th>D</th>\n",
       "      <td>1.432320</td>\n",
       "      <td>-0.350024</td>\n",
       "    </tr>\n",
       "    <tr>\n",
       "      <th>E</th>\n",
       "      <td>-0.505227</td>\n",
       "      <td>2.398598</td>\n",
       "    </tr>\n",
       "  </tbody>\n",
       "</table>\n",
       "</div>"
      ],
      "text/plain": [
       "          W         Z\n",
       "A -0.569100 -1.397297\n",
       "B  1.708675  0.006246\n",
       "C -0.686629 -2.318457\n",
       "D  1.432320 -0.350024\n",
       "E -0.505227  2.398598"
      ]
     },
     "execution_count": 13,
     "metadata": {},
     "output_type": "execute_result"
    }
   ],
   "source": [
    "df[['W','Z']]"
   ]
  },
  {
   "cell_type": "code",
   "execution_count": 14,
   "metadata": {},
   "outputs": [],
   "source": [
    "df['new'] = df['W']+df['Z']"
   ]
  },
  {
   "cell_type": "code",
   "execution_count": 15,
   "metadata": {},
   "outputs": [
    {
     "data": {
      "text/html": [
       "<div>\n",
       "<style scoped>\n",
       "    .dataframe tbody tr th:only-of-type {\n",
       "        vertical-align: middle;\n",
       "    }\n",
       "\n",
       "    .dataframe tbody tr th {\n",
       "        vertical-align: top;\n",
       "    }\n",
       "\n",
       "    .dataframe thead th {\n",
       "        text-align: right;\n",
       "    }\n",
       "</style>\n",
       "<table border=\"1\" class=\"dataframe\">\n",
       "  <thead>\n",
       "    <tr style=\"text-align: right;\">\n",
       "      <th></th>\n",
       "      <th>W</th>\n",
       "      <th>X</th>\n",
       "      <th>Y</th>\n",
       "      <th>Z</th>\n",
       "      <th>new</th>\n",
       "    </tr>\n",
       "  </thead>\n",
       "  <tbody>\n",
       "    <tr>\n",
       "      <th>A</th>\n",
       "      <td>-0.569100</td>\n",
       "      <td>-0.084155</td>\n",
       "      <td>-0.846510</td>\n",
       "      <td>-1.397297</td>\n",
       "      <td>-1.966398</td>\n",
       "    </tr>\n",
       "    <tr>\n",
       "      <th>B</th>\n",
       "      <td>1.708675</td>\n",
       "      <td>0.664588</td>\n",
       "      <td>-0.169281</td>\n",
       "      <td>0.006246</td>\n",
       "      <td>1.714920</td>\n",
       "    </tr>\n",
       "    <tr>\n",
       "      <th>C</th>\n",
       "      <td>-0.686629</td>\n",
       "      <td>-1.482483</td>\n",
       "      <td>-0.945229</td>\n",
       "      <td>-2.318457</td>\n",
       "      <td>-3.005085</td>\n",
       "    </tr>\n",
       "    <tr>\n",
       "      <th>D</th>\n",
       "      <td>1.432320</td>\n",
       "      <td>-0.608744</td>\n",
       "      <td>-0.988636</td>\n",
       "      <td>-0.350024</td>\n",
       "      <td>1.082296</td>\n",
       "    </tr>\n",
       "    <tr>\n",
       "      <th>E</th>\n",
       "      <td>-0.505227</td>\n",
       "      <td>1.398927</td>\n",
       "      <td>0.395654</td>\n",
       "      <td>2.398598</td>\n",
       "      <td>1.893371</td>\n",
       "    </tr>\n",
       "  </tbody>\n",
       "</table>\n",
       "</div>"
      ],
      "text/plain": [
       "          W         X         Y         Z       new\n",
       "A -0.569100 -0.084155 -0.846510 -1.397297 -1.966398\n",
       "B  1.708675  0.664588 -0.169281  0.006246  1.714920\n",
       "C -0.686629 -1.482483 -0.945229 -2.318457 -3.005085\n",
       "D  1.432320 -0.608744 -0.988636 -0.350024  1.082296\n",
       "E -0.505227  1.398927  0.395654  2.398598  1.893371"
      ]
     },
     "execution_count": 15,
     "metadata": {},
     "output_type": "execute_result"
    }
   ],
   "source": [
    "df"
   ]
  },
  {
   "cell_type": "code",
   "execution_count": 16,
   "metadata": {},
   "outputs": [
    {
     "data": {
      "text/html": [
       "<div>\n",
       "<style scoped>\n",
       "    .dataframe tbody tr th:only-of-type {\n",
       "        vertical-align: middle;\n",
       "    }\n",
       "\n",
       "    .dataframe tbody tr th {\n",
       "        vertical-align: top;\n",
       "    }\n",
       "\n",
       "    .dataframe thead th {\n",
       "        text-align: right;\n",
       "    }\n",
       "</style>\n",
       "<table border=\"1\" class=\"dataframe\">\n",
       "  <thead>\n",
       "    <tr style=\"text-align: right;\">\n",
       "      <th></th>\n",
       "      <th>W</th>\n",
       "      <th>X</th>\n",
       "      <th>Y</th>\n",
       "      <th>Z</th>\n",
       "      <th>new</th>\n",
       "      <th>sum</th>\n",
       "    </tr>\n",
       "  </thead>\n",
       "  <tbody>\n",
       "    <tr>\n",
       "      <th>A</th>\n",
       "      <td>-0.569100</td>\n",
       "      <td>-0.084155</td>\n",
       "      <td>-0.846510</td>\n",
       "      <td>-1.397297</td>\n",
       "      <td>-1.966398</td>\n",
       "      <td>-0.653255</td>\n",
       "    </tr>\n",
       "    <tr>\n",
       "      <th>B</th>\n",
       "      <td>1.708675</td>\n",
       "      <td>0.664588</td>\n",
       "      <td>-0.169281</td>\n",
       "      <td>0.006246</td>\n",
       "      <td>1.714920</td>\n",
       "      <td>2.373262</td>\n",
       "    </tr>\n",
       "    <tr>\n",
       "      <th>C</th>\n",
       "      <td>-0.686629</td>\n",
       "      <td>-1.482483</td>\n",
       "      <td>-0.945229</td>\n",
       "      <td>-2.318457</td>\n",
       "      <td>-3.005085</td>\n",
       "      <td>-2.169111</td>\n",
       "    </tr>\n",
       "    <tr>\n",
       "      <th>D</th>\n",
       "      <td>1.432320</td>\n",
       "      <td>-0.608744</td>\n",
       "      <td>-0.988636</td>\n",
       "      <td>-0.350024</td>\n",
       "      <td>1.082296</td>\n",
       "      <td>0.823577</td>\n",
       "    </tr>\n",
       "    <tr>\n",
       "      <th>E</th>\n",
       "      <td>-0.505227</td>\n",
       "      <td>1.398927</td>\n",
       "      <td>0.395654</td>\n",
       "      <td>2.398598</td>\n",
       "      <td>1.893371</td>\n",
       "      <td>0.893701</td>\n",
       "    </tr>\n",
       "  </tbody>\n",
       "</table>\n",
       "</div>"
      ],
      "text/plain": [
       "          W         X         Y         Z       new       sum\n",
       "A -0.569100 -0.084155 -0.846510 -1.397297 -1.966398 -0.653255\n",
       "B  1.708675  0.664588 -0.169281  0.006246  1.714920  2.373262\n",
       "C -0.686629 -1.482483 -0.945229 -2.318457 -3.005085 -2.169111\n",
       "D  1.432320 -0.608744 -0.988636 -0.350024  1.082296  0.823577\n",
       "E -0.505227  1.398927  0.395654  2.398598  1.893371  0.893701"
      ]
     },
     "execution_count": 16,
     "metadata": {},
     "output_type": "execute_result"
    }
   ],
   "source": [
    "df['sum']=df['X']+df['W']\n",
    "df"
   ]
  },
  {
   "cell_type": "code",
   "execution_count": 17,
   "metadata": {},
   "outputs": [
    {
     "data": {
      "text/plain": [
       "A   -0.653255\n",
       "B    2.373262\n",
       "C   -2.169111\n",
       "D    0.823577\n",
       "E    0.893701\n",
       "Name: sum, dtype: float64"
      ]
     },
     "execution_count": 17,
     "metadata": {},
     "output_type": "execute_result"
    }
   ],
   "source": [
    "df['sum']"
   ]
  },
  {
   "cell_type": "code",
   "execution_count": 18,
   "metadata": {
    "scrolled": true
   },
   "outputs": [
    {
     "data": {
      "text/plain": [
       "<bound method DataFrame.sum of           W         X         Y         Z       new       sum\n",
       "A -0.569100 -0.084155 -0.846510 -1.397297 -1.966398 -0.653255\n",
       "B  1.708675  0.664588 -0.169281  0.006246  1.714920  2.373262\n",
       "C -0.686629 -1.482483 -0.945229 -2.318457 -3.005085 -2.169111\n",
       "D  1.432320 -0.608744 -0.988636 -0.350024  1.082296  0.823577\n",
       "E -0.505227  1.398927  0.395654  2.398598  1.893371  0.893701>"
      ]
     },
     "execution_count": 18,
     "metadata": {},
     "output_type": "execute_result"
    }
   ],
   "source": [
    "df.sum"
   ]
  },
  {
   "cell_type": "code",
   "execution_count": 19,
   "metadata": {},
   "outputs": [
    {
     "data": {
      "text/html": [
       "<div>\n",
       "<style scoped>\n",
       "    .dataframe tbody tr th:only-of-type {\n",
       "        vertical-align: middle;\n",
       "    }\n",
       "\n",
       "    .dataframe tbody tr th {\n",
       "        vertical-align: top;\n",
       "    }\n",
       "\n",
       "    .dataframe thead th {\n",
       "        text-align: right;\n",
       "    }\n",
       "</style>\n",
       "<table border=\"1\" class=\"dataframe\">\n",
       "  <thead>\n",
       "    <tr style=\"text-align: right;\">\n",
       "      <th></th>\n",
       "      <th>W</th>\n",
       "      <th>X</th>\n",
       "      <th>Y</th>\n",
       "      <th>Z</th>\n",
       "      <th>new</th>\n",
       "    </tr>\n",
       "  </thead>\n",
       "  <tbody>\n",
       "    <tr>\n",
       "      <th>A</th>\n",
       "      <td>-0.569100</td>\n",
       "      <td>-0.084155</td>\n",
       "      <td>-0.846510</td>\n",
       "      <td>-1.397297</td>\n",
       "      <td>-1.966398</td>\n",
       "    </tr>\n",
       "    <tr>\n",
       "      <th>B</th>\n",
       "      <td>1.708675</td>\n",
       "      <td>0.664588</td>\n",
       "      <td>-0.169281</td>\n",
       "      <td>0.006246</td>\n",
       "      <td>1.714920</td>\n",
       "    </tr>\n",
       "    <tr>\n",
       "      <th>C</th>\n",
       "      <td>-0.686629</td>\n",
       "      <td>-1.482483</td>\n",
       "      <td>-0.945229</td>\n",
       "      <td>-2.318457</td>\n",
       "      <td>-3.005085</td>\n",
       "    </tr>\n",
       "    <tr>\n",
       "      <th>D</th>\n",
       "      <td>1.432320</td>\n",
       "      <td>-0.608744</td>\n",
       "      <td>-0.988636</td>\n",
       "      <td>-0.350024</td>\n",
       "      <td>1.082296</td>\n",
       "    </tr>\n",
       "    <tr>\n",
       "      <th>E</th>\n",
       "      <td>-0.505227</td>\n",
       "      <td>1.398927</td>\n",
       "      <td>0.395654</td>\n",
       "      <td>2.398598</td>\n",
       "      <td>1.893371</td>\n",
       "    </tr>\n",
       "  </tbody>\n",
       "</table>\n",
       "</div>"
      ],
      "text/plain": [
       "          W         X         Y         Z       new\n",
       "A -0.569100 -0.084155 -0.846510 -1.397297 -1.966398\n",
       "B  1.708675  0.664588 -0.169281  0.006246  1.714920\n",
       "C -0.686629 -1.482483 -0.945229 -2.318457 -3.005085\n",
       "D  1.432320 -0.608744 -0.988636 -0.350024  1.082296\n",
       "E -0.505227  1.398927  0.395654  2.398598  1.893371"
      ]
     },
     "execution_count": 19,
     "metadata": {},
     "output_type": "execute_result"
    }
   ],
   "source": [
    "df.drop('sum',axis=1)"
   ]
  },
  {
   "cell_type": "code",
   "execution_count": 20,
   "metadata": {},
   "outputs": [
    {
     "data": {
      "text/html": [
       "<div>\n",
       "<style scoped>\n",
       "    .dataframe tbody tr th:only-of-type {\n",
       "        vertical-align: middle;\n",
       "    }\n",
       "\n",
       "    .dataframe tbody tr th {\n",
       "        vertical-align: top;\n",
       "    }\n",
       "\n",
       "    .dataframe thead th {\n",
       "        text-align: right;\n",
       "    }\n",
       "</style>\n",
       "<table border=\"1\" class=\"dataframe\">\n",
       "  <thead>\n",
       "    <tr style=\"text-align: right;\">\n",
       "      <th></th>\n",
       "      <th>W</th>\n",
       "      <th>X</th>\n",
       "      <th>Y</th>\n",
       "      <th>Z</th>\n",
       "      <th>new</th>\n",
       "      <th>sum</th>\n",
       "    </tr>\n",
       "  </thead>\n",
       "  <tbody>\n",
       "    <tr>\n",
       "      <th>A</th>\n",
       "      <td>-0.569100</td>\n",
       "      <td>-0.084155</td>\n",
       "      <td>-0.846510</td>\n",
       "      <td>-1.397297</td>\n",
       "      <td>-1.966398</td>\n",
       "      <td>-0.653255</td>\n",
       "    </tr>\n",
       "    <tr>\n",
       "      <th>B</th>\n",
       "      <td>1.708675</td>\n",
       "      <td>0.664588</td>\n",
       "      <td>-0.169281</td>\n",
       "      <td>0.006246</td>\n",
       "      <td>1.714920</td>\n",
       "      <td>2.373262</td>\n",
       "    </tr>\n",
       "    <tr>\n",
       "      <th>C</th>\n",
       "      <td>-0.686629</td>\n",
       "      <td>-1.482483</td>\n",
       "      <td>-0.945229</td>\n",
       "      <td>-2.318457</td>\n",
       "      <td>-3.005085</td>\n",
       "      <td>-2.169111</td>\n",
       "    </tr>\n",
       "    <tr>\n",
       "      <th>D</th>\n",
       "      <td>1.432320</td>\n",
       "      <td>-0.608744</td>\n",
       "      <td>-0.988636</td>\n",
       "      <td>-0.350024</td>\n",
       "      <td>1.082296</td>\n",
       "      <td>0.823577</td>\n",
       "    </tr>\n",
       "    <tr>\n",
       "      <th>E</th>\n",
       "      <td>-0.505227</td>\n",
       "      <td>1.398927</td>\n",
       "      <td>0.395654</td>\n",
       "      <td>2.398598</td>\n",
       "      <td>1.893371</td>\n",
       "      <td>0.893701</td>\n",
       "    </tr>\n",
       "  </tbody>\n",
       "</table>\n",
       "</div>"
      ],
      "text/plain": [
       "          W         X         Y         Z       new       sum\n",
       "A -0.569100 -0.084155 -0.846510 -1.397297 -1.966398 -0.653255\n",
       "B  1.708675  0.664588 -0.169281  0.006246  1.714920  2.373262\n",
       "C -0.686629 -1.482483 -0.945229 -2.318457 -3.005085 -2.169111\n",
       "D  1.432320 -0.608744 -0.988636 -0.350024  1.082296  0.823577\n",
       "E -0.505227  1.398927  0.395654  2.398598  1.893371  0.893701"
      ]
     },
     "execution_count": 20,
     "metadata": {},
     "output_type": "execute_result"
    }
   ],
   "source": [
    "df"
   ]
  },
  {
   "cell_type": "code",
   "execution_count": 21,
   "metadata": {},
   "outputs": [
    {
     "data": {
      "text/html": [
       "<div>\n",
       "<style scoped>\n",
       "    .dataframe tbody tr th:only-of-type {\n",
       "        vertical-align: middle;\n",
       "    }\n",
       "\n",
       "    .dataframe tbody tr th {\n",
       "        vertical-align: top;\n",
       "    }\n",
       "\n",
       "    .dataframe thead th {\n",
       "        text-align: right;\n",
       "    }\n",
       "</style>\n",
       "<table border=\"1\" class=\"dataframe\">\n",
       "  <thead>\n",
       "    <tr style=\"text-align: right;\">\n",
       "      <th></th>\n",
       "      <th>W</th>\n",
       "      <th>X</th>\n",
       "      <th>Y</th>\n",
       "      <th>Z</th>\n",
       "      <th>new</th>\n",
       "    </tr>\n",
       "  </thead>\n",
       "  <tbody>\n",
       "    <tr>\n",
       "      <th>A</th>\n",
       "      <td>-0.569100</td>\n",
       "      <td>-0.084155</td>\n",
       "      <td>-0.846510</td>\n",
       "      <td>-1.397297</td>\n",
       "      <td>-1.966398</td>\n",
       "    </tr>\n",
       "    <tr>\n",
       "      <th>B</th>\n",
       "      <td>1.708675</td>\n",
       "      <td>0.664588</td>\n",
       "      <td>-0.169281</td>\n",
       "      <td>0.006246</td>\n",
       "      <td>1.714920</td>\n",
       "    </tr>\n",
       "    <tr>\n",
       "      <th>C</th>\n",
       "      <td>-0.686629</td>\n",
       "      <td>-1.482483</td>\n",
       "      <td>-0.945229</td>\n",
       "      <td>-2.318457</td>\n",
       "      <td>-3.005085</td>\n",
       "    </tr>\n",
       "    <tr>\n",
       "      <th>D</th>\n",
       "      <td>1.432320</td>\n",
       "      <td>-0.608744</td>\n",
       "      <td>-0.988636</td>\n",
       "      <td>-0.350024</td>\n",
       "      <td>1.082296</td>\n",
       "    </tr>\n",
       "    <tr>\n",
       "      <th>E</th>\n",
       "      <td>-0.505227</td>\n",
       "      <td>1.398927</td>\n",
       "      <td>0.395654</td>\n",
       "      <td>2.398598</td>\n",
       "      <td>1.893371</td>\n",
       "    </tr>\n",
       "  </tbody>\n",
       "</table>\n",
       "</div>"
      ],
      "text/plain": [
       "          W         X         Y         Z       new\n",
       "A -0.569100 -0.084155 -0.846510 -1.397297 -1.966398\n",
       "B  1.708675  0.664588 -0.169281  0.006246  1.714920\n",
       "C -0.686629 -1.482483 -0.945229 -2.318457 -3.005085\n",
       "D  1.432320 -0.608744 -0.988636 -0.350024  1.082296\n",
       "E -0.505227  1.398927  0.395654  2.398598  1.893371"
      ]
     },
     "execution_count": 21,
     "metadata": {},
     "output_type": "execute_result"
    }
   ],
   "source": [
    "df = df.drop('sum',axis=1)\n",
    "df"
   ]
  },
  {
   "cell_type": "code",
   "execution_count": 22,
   "metadata": {},
   "outputs": [
    {
     "data": {
      "text/html": [
       "<div>\n",
       "<style scoped>\n",
       "    .dataframe tbody tr th:only-of-type {\n",
       "        vertical-align: middle;\n",
       "    }\n",
       "\n",
       "    .dataframe tbody tr th {\n",
       "        vertical-align: top;\n",
       "    }\n",
       "\n",
       "    .dataframe thead th {\n",
       "        text-align: right;\n",
       "    }\n",
       "</style>\n",
       "<table border=\"1\" class=\"dataframe\">\n",
       "  <thead>\n",
       "    <tr style=\"text-align: right;\">\n",
       "      <th></th>\n",
       "      <th>W</th>\n",
       "      <th>X</th>\n",
       "      <th>Y</th>\n",
       "      <th>Z</th>\n",
       "    </tr>\n",
       "  </thead>\n",
       "  <tbody>\n",
       "    <tr>\n",
       "      <th>A</th>\n",
       "      <td>-0.569100</td>\n",
       "      <td>-0.084155</td>\n",
       "      <td>-0.846510</td>\n",
       "      <td>-1.397297</td>\n",
       "    </tr>\n",
       "    <tr>\n",
       "      <th>B</th>\n",
       "      <td>1.708675</td>\n",
       "      <td>0.664588</td>\n",
       "      <td>-0.169281</td>\n",
       "      <td>0.006246</td>\n",
       "    </tr>\n",
       "    <tr>\n",
       "      <th>C</th>\n",
       "      <td>-0.686629</td>\n",
       "      <td>-1.482483</td>\n",
       "      <td>-0.945229</td>\n",
       "      <td>-2.318457</td>\n",
       "    </tr>\n",
       "    <tr>\n",
       "      <th>D</th>\n",
       "      <td>1.432320</td>\n",
       "      <td>-0.608744</td>\n",
       "      <td>-0.988636</td>\n",
       "      <td>-0.350024</td>\n",
       "    </tr>\n",
       "    <tr>\n",
       "      <th>E</th>\n",
       "      <td>-0.505227</td>\n",
       "      <td>1.398927</td>\n",
       "      <td>0.395654</td>\n",
       "      <td>2.398598</td>\n",
       "    </tr>\n",
       "  </tbody>\n",
       "</table>\n",
       "</div>"
      ],
      "text/plain": [
       "          W         X         Y         Z\n",
       "A -0.569100 -0.084155 -0.846510 -1.397297\n",
       "B  1.708675  0.664588 -0.169281  0.006246\n",
       "C -0.686629 -1.482483 -0.945229 -2.318457\n",
       "D  1.432320 -0.608744 -0.988636 -0.350024\n",
       "E -0.505227  1.398927  0.395654  2.398598"
      ]
     },
     "execution_count": 22,
     "metadata": {},
     "output_type": "execute_result"
    }
   ],
   "source": [
    "df.drop('new',axis=1,inplace=True)\n",
    "df"
   ]
  },
  {
   "cell_type": "code",
   "execution_count": 23,
   "metadata": {},
   "outputs": [
    {
     "data": {
      "text/html": [
       "<div>\n",
       "<style scoped>\n",
       "    .dataframe tbody tr th:only-of-type {\n",
       "        vertical-align: middle;\n",
       "    }\n",
       "\n",
       "    .dataframe tbody tr th {\n",
       "        vertical-align: top;\n",
       "    }\n",
       "\n",
       "    .dataframe thead th {\n",
       "        text-align: right;\n",
       "    }\n",
       "</style>\n",
       "<table border=\"1\" class=\"dataframe\">\n",
       "  <thead>\n",
       "    <tr style=\"text-align: right;\">\n",
       "      <th></th>\n",
       "      <th>W</th>\n",
       "      <th>X</th>\n",
       "      <th>Y</th>\n",
       "      <th>Z</th>\n",
       "    </tr>\n",
       "  </thead>\n",
       "  <tbody>\n",
       "    <tr>\n",
       "      <th>A</th>\n",
       "      <td>-0.569100</td>\n",
       "      <td>-0.084155</td>\n",
       "      <td>-0.846510</td>\n",
       "      <td>-1.397297</td>\n",
       "    </tr>\n",
       "    <tr>\n",
       "      <th>B</th>\n",
       "      <td>1.708675</td>\n",
       "      <td>0.664588</td>\n",
       "      <td>-0.169281</td>\n",
       "      <td>0.006246</td>\n",
       "    </tr>\n",
       "    <tr>\n",
       "      <th>C</th>\n",
       "      <td>-0.686629</td>\n",
       "      <td>-1.482483</td>\n",
       "      <td>-0.945229</td>\n",
       "      <td>-2.318457</td>\n",
       "    </tr>\n",
       "    <tr>\n",
       "      <th>D</th>\n",
       "      <td>1.432320</td>\n",
       "      <td>-0.608744</td>\n",
       "      <td>-0.988636</td>\n",
       "      <td>-0.350024</td>\n",
       "    </tr>\n",
       "  </tbody>\n",
       "</table>\n",
       "</div>"
      ],
      "text/plain": [
       "          W         X         Y         Z\n",
       "A -0.569100 -0.084155 -0.846510 -1.397297\n",
       "B  1.708675  0.664588 -0.169281  0.006246\n",
       "C -0.686629 -1.482483 -0.945229 -2.318457\n",
       "D  1.432320 -0.608744 -0.988636 -0.350024"
      ]
     },
     "execution_count": 23,
     "metadata": {},
     "output_type": "execute_result"
    }
   ],
   "source": [
    "df.drop('E')"
   ]
  },
  {
   "cell_type": "markdown",
   "metadata": {},
   "source": [
    "#### Selection"
   ]
  },
  {
   "cell_type": "code",
   "execution_count": 24,
   "metadata": {},
   "outputs": [
    {
     "data": {
      "text/html": [
       "<div>\n",
       "<style scoped>\n",
       "    .dataframe tbody tr th:only-of-type {\n",
       "        vertical-align: middle;\n",
       "    }\n",
       "\n",
       "    .dataframe tbody tr th {\n",
       "        vertical-align: top;\n",
       "    }\n",
       "\n",
       "    .dataframe thead th {\n",
       "        text-align: right;\n",
       "    }\n",
       "</style>\n",
       "<table border=\"1\" class=\"dataframe\">\n",
       "  <thead>\n",
       "    <tr style=\"text-align: right;\">\n",
       "      <th></th>\n",
       "      <th>W</th>\n",
       "      <th>X</th>\n",
       "      <th>Y</th>\n",
       "      <th>Z</th>\n",
       "    </tr>\n",
       "  </thead>\n",
       "  <tbody>\n",
       "    <tr>\n",
       "      <th>A</th>\n",
       "      <td>-0.569100</td>\n",
       "      <td>-0.084155</td>\n",
       "      <td>-0.846510</td>\n",
       "      <td>-1.397297</td>\n",
       "    </tr>\n",
       "    <tr>\n",
       "      <th>B</th>\n",
       "      <td>1.708675</td>\n",
       "      <td>0.664588</td>\n",
       "      <td>-0.169281</td>\n",
       "      <td>0.006246</td>\n",
       "    </tr>\n",
       "    <tr>\n",
       "      <th>C</th>\n",
       "      <td>-0.686629</td>\n",
       "      <td>-1.482483</td>\n",
       "      <td>-0.945229</td>\n",
       "      <td>-2.318457</td>\n",
       "    </tr>\n",
       "    <tr>\n",
       "      <th>D</th>\n",
       "      <td>1.432320</td>\n",
       "      <td>-0.608744</td>\n",
       "      <td>-0.988636</td>\n",
       "      <td>-0.350024</td>\n",
       "    </tr>\n",
       "    <tr>\n",
       "      <th>E</th>\n",
       "      <td>-0.505227</td>\n",
       "      <td>1.398927</td>\n",
       "      <td>0.395654</td>\n",
       "      <td>2.398598</td>\n",
       "    </tr>\n",
       "  </tbody>\n",
       "</table>\n",
       "</div>"
      ],
      "text/plain": [
       "          W         X         Y         Z\n",
       "A -0.569100 -0.084155 -0.846510 -1.397297\n",
       "B  1.708675  0.664588 -0.169281  0.006246\n",
       "C -0.686629 -1.482483 -0.945229 -2.318457\n",
       "D  1.432320 -0.608744 -0.988636 -0.350024\n",
       "E -0.505227  1.398927  0.395654  2.398598"
      ]
     },
     "execution_count": 24,
     "metadata": {},
     "output_type": "execute_result"
    }
   ],
   "source": [
    "df"
   ]
  },
  {
   "cell_type": "code",
   "execution_count": 25,
   "metadata": {},
   "outputs": [
    {
     "data": {
      "text/plain": [
       "W   -0.569100\n",
       "X   -0.084155\n",
       "Y   -0.846510\n",
       "Z   -1.397297\n",
       "Name: A, dtype: float64"
      ]
     },
     "execution_count": 25,
     "metadata": {},
     "output_type": "execute_result"
    }
   ],
   "source": [
    "df.loc['A'] # Selection by label index"
   ]
  },
  {
   "cell_type": "code",
   "execution_count": 26,
   "metadata": {},
   "outputs": [
    {
     "data": {
      "text/plain": [
       "W   -0.569100\n",
       "X   -0.084155\n",
       "Y   -0.846510\n",
       "Z   -1.397297\n",
       "Name: A, dtype: float64"
      ]
     },
     "execution_count": 26,
     "metadata": {},
     "output_type": "execute_result"
    }
   ],
   "source": [
    "df.iloc[0] # Selection by numeric index"
   ]
  },
  {
   "cell_type": "markdown",
   "metadata": {},
   "source": [
    "###### Selecting subsets"
   ]
  },
  {
   "cell_type": "code",
   "execution_count": 27,
   "metadata": {},
   "outputs": [
    {
     "data": {
      "text/html": [
       "<div>\n",
       "<style scoped>\n",
       "    .dataframe tbody tr th:only-of-type {\n",
       "        vertical-align: middle;\n",
       "    }\n",
       "\n",
       "    .dataframe tbody tr th {\n",
       "        vertical-align: top;\n",
       "    }\n",
       "\n",
       "    .dataframe thead th {\n",
       "        text-align: right;\n",
       "    }\n",
       "</style>\n",
       "<table border=\"1\" class=\"dataframe\">\n",
       "  <thead>\n",
       "    <tr style=\"text-align: right;\">\n",
       "      <th></th>\n",
       "      <th>W</th>\n",
       "      <th>X</th>\n",
       "      <th>Y</th>\n",
       "      <th>Z</th>\n",
       "    </tr>\n",
       "  </thead>\n",
       "  <tbody>\n",
       "    <tr>\n",
       "      <th>A</th>\n",
       "      <td>-0.569100</td>\n",
       "      <td>-0.084155</td>\n",
       "      <td>-0.846510</td>\n",
       "      <td>-1.397297</td>\n",
       "    </tr>\n",
       "    <tr>\n",
       "      <th>B</th>\n",
       "      <td>1.708675</td>\n",
       "      <td>0.664588</td>\n",
       "      <td>0.000000</td>\n",
       "      <td>0.006246</td>\n",
       "    </tr>\n",
       "    <tr>\n",
       "      <th>C</th>\n",
       "      <td>-0.686629</td>\n",
       "      <td>-1.482483</td>\n",
       "      <td>-0.945229</td>\n",
       "      <td>-2.318457</td>\n",
       "    </tr>\n",
       "    <tr>\n",
       "      <th>D</th>\n",
       "      <td>1.432320</td>\n",
       "      <td>-0.608744</td>\n",
       "      <td>-0.988636</td>\n",
       "      <td>-0.350024</td>\n",
       "    </tr>\n",
       "    <tr>\n",
       "      <th>E</th>\n",
       "      <td>-0.505227</td>\n",
       "      <td>1.398927</td>\n",
       "      <td>0.395654</td>\n",
       "      <td>2.398598</td>\n",
       "    </tr>\n",
       "  </tbody>\n",
       "</table>\n",
       "</div>"
      ],
      "text/plain": [
       "          W         X         Y         Z\n",
       "A -0.569100 -0.084155 -0.846510 -1.397297\n",
       "B  1.708675  0.664588  0.000000  0.006246\n",
       "C -0.686629 -1.482483 -0.945229 -2.318457\n",
       "D  1.432320 -0.608744 -0.988636 -0.350024\n",
       "E -0.505227  1.398927  0.395654  2.398598"
      ]
     },
     "execution_count": 27,
     "metadata": {},
     "output_type": "execute_result"
    }
   ],
   "source": [
    "df.loc['B','Y']=0\n",
    "df"
   ]
  },
  {
   "cell_type": "code",
   "execution_count": 28,
   "metadata": {},
   "outputs": [
    {
     "data": {
      "text/html": [
       "<div>\n",
       "<style scoped>\n",
       "    .dataframe tbody tr th:only-of-type {\n",
       "        vertical-align: middle;\n",
       "    }\n",
       "\n",
       "    .dataframe tbody tr th {\n",
       "        vertical-align: top;\n",
       "    }\n",
       "\n",
       "    .dataframe thead th {\n",
       "        text-align: right;\n",
       "    }\n",
       "</style>\n",
       "<table border=\"1\" class=\"dataframe\">\n",
       "  <thead>\n",
       "    <tr style=\"text-align: right;\">\n",
       "      <th></th>\n",
       "      <th>W</th>\n",
       "      <th>Y</th>\n",
       "    </tr>\n",
       "  </thead>\n",
       "  <tbody>\n",
       "    <tr>\n",
       "      <th>A</th>\n",
       "      <td>-0.569100</td>\n",
       "      <td>-0.84651</td>\n",
       "    </tr>\n",
       "    <tr>\n",
       "      <th>B</th>\n",
       "      <td>1.708675</td>\n",
       "      <td>0.00000</td>\n",
       "    </tr>\n",
       "  </tbody>\n",
       "</table>\n",
       "</div>"
      ],
      "text/plain": [
       "          W        Y\n",
       "A -0.569100 -0.84651\n",
       "B  1.708675  0.00000"
      ]
     },
     "execution_count": 28,
     "metadata": {},
     "output_type": "execute_result"
    }
   ],
   "source": [
    "df.loc[['A','B'],['W','Y']]"
   ]
  },
  {
   "cell_type": "markdown",
   "metadata": {},
   "source": [
    "##### Conditional Selection"
   ]
  },
  {
   "cell_type": "code",
   "execution_count": 29,
   "metadata": {},
   "outputs": [
    {
     "data": {
      "text/html": [
       "<div>\n",
       "<style scoped>\n",
       "    .dataframe tbody tr th:only-of-type {\n",
       "        vertical-align: middle;\n",
       "    }\n",
       "\n",
       "    .dataframe tbody tr th {\n",
       "        vertical-align: top;\n",
       "    }\n",
       "\n",
       "    .dataframe thead th {\n",
       "        text-align: right;\n",
       "    }\n",
       "</style>\n",
       "<table border=\"1\" class=\"dataframe\">\n",
       "  <thead>\n",
       "    <tr style=\"text-align: right;\">\n",
       "      <th></th>\n",
       "      <th>W</th>\n",
       "      <th>X</th>\n",
       "      <th>Y</th>\n",
       "      <th>Z</th>\n",
       "    </tr>\n",
       "  </thead>\n",
       "  <tbody>\n",
       "    <tr>\n",
       "      <th>A</th>\n",
       "      <td>-0.569100</td>\n",
       "      <td>-0.084155</td>\n",
       "      <td>-0.846510</td>\n",
       "      <td>-1.397297</td>\n",
       "    </tr>\n",
       "    <tr>\n",
       "      <th>B</th>\n",
       "      <td>1.708675</td>\n",
       "      <td>0.664588</td>\n",
       "      <td>0.000000</td>\n",
       "      <td>0.006246</td>\n",
       "    </tr>\n",
       "    <tr>\n",
       "      <th>C</th>\n",
       "      <td>-0.686629</td>\n",
       "      <td>-1.482483</td>\n",
       "      <td>-0.945229</td>\n",
       "      <td>-2.318457</td>\n",
       "    </tr>\n",
       "    <tr>\n",
       "      <th>D</th>\n",
       "      <td>1.432320</td>\n",
       "      <td>-0.608744</td>\n",
       "      <td>-0.988636</td>\n",
       "      <td>-0.350024</td>\n",
       "    </tr>\n",
       "    <tr>\n",
       "      <th>E</th>\n",
       "      <td>-0.505227</td>\n",
       "      <td>1.398927</td>\n",
       "      <td>0.395654</td>\n",
       "      <td>2.398598</td>\n",
       "    </tr>\n",
       "  </tbody>\n",
       "</table>\n",
       "</div>"
      ],
      "text/plain": [
       "          W         X         Y         Z\n",
       "A -0.569100 -0.084155 -0.846510 -1.397297\n",
       "B  1.708675  0.664588  0.000000  0.006246\n",
       "C -0.686629 -1.482483 -0.945229 -2.318457\n",
       "D  1.432320 -0.608744 -0.988636 -0.350024\n",
       "E -0.505227  1.398927  0.395654  2.398598"
      ]
     },
     "execution_count": 29,
     "metadata": {},
     "output_type": "execute_result"
    }
   ],
   "source": [
    "df"
   ]
  },
  {
   "cell_type": "code",
   "execution_count": 30,
   "metadata": {},
   "outputs": [
    {
     "data": {
      "text/html": [
       "<div>\n",
       "<style scoped>\n",
       "    .dataframe tbody tr th:only-of-type {\n",
       "        vertical-align: middle;\n",
       "    }\n",
       "\n",
       "    .dataframe tbody tr th {\n",
       "        vertical-align: top;\n",
       "    }\n",
       "\n",
       "    .dataframe thead th {\n",
       "        text-align: right;\n",
       "    }\n",
       "</style>\n",
       "<table border=\"1\" class=\"dataframe\">\n",
       "  <thead>\n",
       "    <tr style=\"text-align: right;\">\n",
       "      <th></th>\n",
       "      <th>W</th>\n",
       "      <th>X</th>\n",
       "      <th>Y</th>\n",
       "      <th>Z</th>\n",
       "    </tr>\n",
       "  </thead>\n",
       "  <tbody>\n",
       "    <tr>\n",
       "      <th>B</th>\n",
       "      <td>1.708675</td>\n",
       "      <td>0.664588</td>\n",
       "      <td>0.000000</td>\n",
       "      <td>0.006246</td>\n",
       "    </tr>\n",
       "    <tr>\n",
       "      <th>D</th>\n",
       "      <td>1.432320</td>\n",
       "      <td>-0.608744</td>\n",
       "      <td>-0.988636</td>\n",
       "      <td>-0.350024</td>\n",
       "    </tr>\n",
       "  </tbody>\n",
       "</table>\n",
       "</div>"
      ],
      "text/plain": [
       "          W         X         Y         Z\n",
       "B  1.708675  0.664588  0.000000  0.006246\n",
       "D  1.432320 -0.608744 -0.988636 -0.350024"
      ]
     },
     "execution_count": 30,
     "metadata": {},
     "output_type": "execute_result"
    }
   ],
   "source": [
    "df[df['W']>0]"
   ]
  },
  {
   "cell_type": "code",
   "execution_count": 31,
   "metadata": {},
   "outputs": [
    {
     "data": {
      "text/plain": [
       "A    False\n",
       "B     True\n",
       "C    False\n",
       "D     True\n",
       "E    False\n",
       "Name: W, dtype: bool"
      ]
     },
     "execution_count": 31,
     "metadata": {},
     "output_type": "execute_result"
    }
   ],
   "source": [
    "df['W']>0"
   ]
  },
  {
   "cell_type": "code",
   "execution_count": 32,
   "metadata": {},
   "outputs": [
    {
     "data": {
      "text/plain": [
       "B    0.006246\n",
       "D   -0.350024\n",
       "Name: Z, dtype: float64"
      ]
     },
     "execution_count": 32,
     "metadata": {},
     "output_type": "execute_result"
    }
   ],
   "source": [
    "df[df['W']>0]['Z']"
   ]
  },
  {
   "cell_type": "markdown",
   "metadata": {},
   "source": [
    "##### index"
   ]
  },
  {
   "cell_type": "code",
   "execution_count": 33,
   "metadata": {},
   "outputs": [
    {
     "data": {
      "text/html": [
       "<div>\n",
       "<style scoped>\n",
       "    .dataframe tbody tr th:only-of-type {\n",
       "        vertical-align: middle;\n",
       "    }\n",
       "\n",
       "    .dataframe tbody tr th {\n",
       "        vertical-align: top;\n",
       "    }\n",
       "\n",
       "    .dataframe thead th {\n",
       "        text-align: right;\n",
       "    }\n",
       "</style>\n",
       "<table border=\"1\" class=\"dataframe\">\n",
       "  <thead>\n",
       "    <tr style=\"text-align: right;\">\n",
       "      <th></th>\n",
       "      <th>W</th>\n",
       "      <th>X</th>\n",
       "      <th>Y</th>\n",
       "      <th>Z</th>\n",
       "    </tr>\n",
       "  </thead>\n",
       "  <tbody>\n",
       "    <tr>\n",
       "      <th>A</th>\n",
       "      <td>-0.569100</td>\n",
       "      <td>-0.084155</td>\n",
       "      <td>-0.846510</td>\n",
       "      <td>-1.397297</td>\n",
       "    </tr>\n",
       "    <tr>\n",
       "      <th>B</th>\n",
       "      <td>1.708675</td>\n",
       "      <td>0.664588</td>\n",
       "      <td>0.000000</td>\n",
       "      <td>0.006246</td>\n",
       "    </tr>\n",
       "    <tr>\n",
       "      <th>C</th>\n",
       "      <td>-0.686629</td>\n",
       "      <td>-1.482483</td>\n",
       "      <td>-0.945229</td>\n",
       "      <td>-2.318457</td>\n",
       "    </tr>\n",
       "    <tr>\n",
       "      <th>D</th>\n",
       "      <td>1.432320</td>\n",
       "      <td>-0.608744</td>\n",
       "      <td>-0.988636</td>\n",
       "      <td>-0.350024</td>\n",
       "    </tr>\n",
       "    <tr>\n",
       "      <th>E</th>\n",
       "      <td>-0.505227</td>\n",
       "      <td>1.398927</td>\n",
       "      <td>0.395654</td>\n",
       "      <td>2.398598</td>\n",
       "    </tr>\n",
       "  </tbody>\n",
       "</table>\n",
       "</div>"
      ],
      "text/plain": [
       "          W         X         Y         Z\n",
       "A -0.569100 -0.084155 -0.846510 -1.397297\n",
       "B  1.708675  0.664588  0.000000  0.006246\n",
       "C -0.686629 -1.482483 -0.945229 -2.318457\n",
       "D  1.432320 -0.608744 -0.988636 -0.350024\n",
       "E -0.505227  1.398927  0.395654  2.398598"
      ]
     },
     "execution_count": 33,
     "metadata": {},
     "output_type": "execute_result"
    }
   ],
   "source": [
    "df"
   ]
  },
  {
   "cell_type": "code",
   "execution_count": 34,
   "metadata": {},
   "outputs": [
    {
     "data": {
      "text/html": [
       "<div>\n",
       "<style scoped>\n",
       "    .dataframe tbody tr th:only-of-type {\n",
       "        vertical-align: middle;\n",
       "    }\n",
       "\n",
       "    .dataframe tbody tr th {\n",
       "        vertical-align: top;\n",
       "    }\n",
       "\n",
       "    .dataframe thead th {\n",
       "        text-align: right;\n",
       "    }\n",
       "</style>\n",
       "<table border=\"1\" class=\"dataframe\">\n",
       "  <thead>\n",
       "    <tr style=\"text-align: right;\">\n",
       "      <th></th>\n",
       "      <th>index</th>\n",
       "      <th>W</th>\n",
       "      <th>X</th>\n",
       "      <th>Y</th>\n",
       "      <th>Z</th>\n",
       "    </tr>\n",
       "  </thead>\n",
       "  <tbody>\n",
       "    <tr>\n",
       "      <th>0</th>\n",
       "      <td>A</td>\n",
       "      <td>-0.569100</td>\n",
       "      <td>-0.084155</td>\n",
       "      <td>-0.846510</td>\n",
       "      <td>-1.397297</td>\n",
       "    </tr>\n",
       "    <tr>\n",
       "      <th>1</th>\n",
       "      <td>B</td>\n",
       "      <td>1.708675</td>\n",
       "      <td>0.664588</td>\n",
       "      <td>0.000000</td>\n",
       "      <td>0.006246</td>\n",
       "    </tr>\n",
       "    <tr>\n",
       "      <th>2</th>\n",
       "      <td>C</td>\n",
       "      <td>-0.686629</td>\n",
       "      <td>-1.482483</td>\n",
       "      <td>-0.945229</td>\n",
       "      <td>-2.318457</td>\n",
       "    </tr>\n",
       "    <tr>\n",
       "      <th>3</th>\n",
       "      <td>D</td>\n",
       "      <td>1.432320</td>\n",
       "      <td>-0.608744</td>\n",
       "      <td>-0.988636</td>\n",
       "      <td>-0.350024</td>\n",
       "    </tr>\n",
       "    <tr>\n",
       "      <th>4</th>\n",
       "      <td>E</td>\n",
       "      <td>-0.505227</td>\n",
       "      <td>1.398927</td>\n",
       "      <td>0.395654</td>\n",
       "      <td>2.398598</td>\n",
       "    </tr>\n",
       "  </tbody>\n",
       "</table>\n",
       "</div>"
      ],
      "text/plain": [
       "  index         W         X         Y         Z\n",
       "0     A -0.569100 -0.084155 -0.846510 -1.397297\n",
       "1     B  1.708675  0.664588  0.000000  0.006246\n",
       "2     C -0.686629 -1.482483 -0.945229 -2.318457\n",
       "3     D  1.432320 -0.608744 -0.988636 -0.350024\n",
       "4     E -0.505227  1.398927  0.395654  2.398598"
      ]
     },
     "execution_count": 34,
     "metadata": {},
     "output_type": "execute_result"
    }
   ],
   "source": [
    "df.reset_index()"
   ]
  },
  {
   "cell_type": "code",
   "execution_count": 35,
   "metadata": {},
   "outputs": [
    {
     "data": {
      "text/html": [
       "<div>\n",
       "<style scoped>\n",
       "    .dataframe tbody tr th:only-of-type {\n",
       "        vertical-align: middle;\n",
       "    }\n",
       "\n",
       "    .dataframe tbody tr th {\n",
       "        vertical-align: top;\n",
       "    }\n",
       "\n",
       "    .dataframe thead th {\n",
       "        text-align: right;\n",
       "    }\n",
       "</style>\n",
       "<table border=\"1\" class=\"dataframe\">\n",
       "  <thead>\n",
       "    <tr style=\"text-align: right;\">\n",
       "      <th></th>\n",
       "      <th>W</th>\n",
       "      <th>X</th>\n",
       "      <th>Y</th>\n",
       "      <th>Z</th>\n",
       "    </tr>\n",
       "  </thead>\n",
       "  <tbody>\n",
       "    <tr>\n",
       "      <th>A</th>\n",
       "      <td>-0.569100</td>\n",
       "      <td>-0.084155</td>\n",
       "      <td>-0.846510</td>\n",
       "      <td>-1.397297</td>\n",
       "    </tr>\n",
       "    <tr>\n",
       "      <th>B</th>\n",
       "      <td>1.708675</td>\n",
       "      <td>0.664588</td>\n",
       "      <td>0.000000</td>\n",
       "      <td>0.006246</td>\n",
       "    </tr>\n",
       "    <tr>\n",
       "      <th>C</th>\n",
       "      <td>-0.686629</td>\n",
       "      <td>-1.482483</td>\n",
       "      <td>-0.945229</td>\n",
       "      <td>-2.318457</td>\n",
       "    </tr>\n",
       "    <tr>\n",
       "      <th>D</th>\n",
       "      <td>1.432320</td>\n",
       "      <td>-0.608744</td>\n",
       "      <td>-0.988636</td>\n",
       "      <td>-0.350024</td>\n",
       "    </tr>\n",
       "    <tr>\n",
       "      <th>E</th>\n",
       "      <td>-0.505227</td>\n",
       "      <td>1.398927</td>\n",
       "      <td>0.395654</td>\n",
       "      <td>2.398598</td>\n",
       "    </tr>\n",
       "  </tbody>\n",
       "</table>\n",
       "</div>"
      ],
      "text/plain": [
       "          W         X         Y         Z\n",
       "A -0.569100 -0.084155 -0.846510 -1.397297\n",
       "B  1.708675  0.664588  0.000000  0.006246\n",
       "C -0.686629 -1.482483 -0.945229 -2.318457\n",
       "D  1.432320 -0.608744 -0.988636 -0.350024\n",
       "E -0.505227  1.398927  0.395654  2.398598"
      ]
     },
     "execution_count": 35,
     "metadata": {},
     "output_type": "execute_result"
    }
   ],
   "source": [
    "df"
   ]
  },
  {
   "cell_type": "code",
   "execution_count": 36,
   "metadata": {},
   "outputs": [],
   "source": [
    "#df.reset_index(inplace=True)"
   ]
  },
  {
   "cell_type": "code",
   "execution_count": 37,
   "metadata": {},
   "outputs": [
    {
     "data": {
      "text/html": [
       "<div>\n",
       "<style scoped>\n",
       "    .dataframe tbody tr th:only-of-type {\n",
       "        vertical-align: middle;\n",
       "    }\n",
       "\n",
       "    .dataframe tbody tr th {\n",
       "        vertical-align: top;\n",
       "    }\n",
       "\n",
       "    .dataframe thead th {\n",
       "        text-align: right;\n",
       "    }\n",
       "</style>\n",
       "<table border=\"1\" class=\"dataframe\">\n",
       "  <thead>\n",
       "    <tr style=\"text-align: right;\">\n",
       "      <th></th>\n",
       "      <th>W</th>\n",
       "      <th>X</th>\n",
       "      <th>Y</th>\n",
       "      <th>Z</th>\n",
       "    </tr>\n",
       "  </thead>\n",
       "  <tbody>\n",
       "    <tr>\n",
       "      <th>A</th>\n",
       "      <td>-0.569100</td>\n",
       "      <td>-0.084155</td>\n",
       "      <td>-0.846510</td>\n",
       "      <td>-1.397297</td>\n",
       "    </tr>\n",
       "    <tr>\n",
       "      <th>B</th>\n",
       "      <td>1.708675</td>\n",
       "      <td>0.664588</td>\n",
       "      <td>0.000000</td>\n",
       "      <td>0.006246</td>\n",
       "    </tr>\n",
       "    <tr>\n",
       "      <th>C</th>\n",
       "      <td>-0.686629</td>\n",
       "      <td>-1.482483</td>\n",
       "      <td>-0.945229</td>\n",
       "      <td>-2.318457</td>\n",
       "    </tr>\n",
       "    <tr>\n",
       "      <th>D</th>\n",
       "      <td>1.432320</td>\n",
       "      <td>-0.608744</td>\n",
       "      <td>-0.988636</td>\n",
       "      <td>-0.350024</td>\n",
       "    </tr>\n",
       "    <tr>\n",
       "      <th>E</th>\n",
       "      <td>-0.505227</td>\n",
       "      <td>1.398927</td>\n",
       "      <td>0.395654</td>\n",
       "      <td>2.398598</td>\n",
       "    </tr>\n",
       "  </tbody>\n",
       "</table>\n",
       "</div>"
      ],
      "text/plain": [
       "          W         X         Y         Z\n",
       "A -0.569100 -0.084155 -0.846510 -1.397297\n",
       "B  1.708675  0.664588  0.000000  0.006246\n",
       "C -0.686629 -1.482483 -0.945229 -2.318457\n",
       "D  1.432320 -0.608744 -0.988636 -0.350024\n",
       "E -0.505227  1.398927  0.395654  2.398598"
      ]
     },
     "execution_count": 37,
     "metadata": {},
     "output_type": "execute_result"
    }
   ],
   "source": [
    "df"
   ]
  },
  {
   "cell_type": "code",
   "execution_count": null,
   "metadata": {},
   "outputs": [],
   "source": []
  },
  {
   "cell_type": "code",
   "execution_count": null,
   "metadata": {},
   "outputs": [],
   "source": []
  },
  {
   "cell_type": "code",
   "execution_count": null,
   "metadata": {},
   "outputs": [],
   "source": []
  },
  {
   "cell_type": "code",
   "execution_count": null,
   "metadata": {},
   "outputs": [],
   "source": []
  },
  {
   "cell_type": "code",
   "execution_count": null,
   "metadata": {},
   "outputs": [],
   "source": []
  },
  {
   "cell_type": "code",
   "execution_count": null,
   "metadata": {},
   "outputs": [],
   "source": []
  },
  {
   "cell_type": "code",
   "execution_count": null,
   "metadata": {},
   "outputs": [],
   "source": []
  },
  {
   "cell_type": "code",
   "execution_count": null,
   "metadata": {},
   "outputs": [],
   "source": []
  },
  {
   "cell_type": "code",
   "execution_count": null,
   "metadata": {},
   "outputs": [],
   "source": []
  }
 ],
 "metadata": {
  "kernelspec": {
   "display_name": "Python 3",
   "language": "python",
   "name": "python3"
  },
  "language_info": {
   "codemirror_mode": {
    "name": "ipython",
    "version": 3
   },
   "file_extension": ".py",
   "mimetype": "text/x-python",
   "name": "python",
   "nbconvert_exporter": "python",
   "pygments_lexer": "ipython3",
   "version": "3.8.3"
  }
 },
 "nbformat": 4,
 "nbformat_minor": 4
}
